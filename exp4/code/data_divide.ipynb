{
 "cells": [
  {
   "cell_type": "code",
   "execution_count": 286,
   "metadata": {},
   "outputs": [],
   "source": [
    "import numpy as np\n",
    "import pandas as pd\n",
    "import matplotlib.pyplot as plt"
   ]
  },
  {
   "cell_type": "markdown",
   "metadata": {},
   "source": [
    "# 数据生成"
   ]
  },
  {
   "cell_type": "code",
   "execution_count": 287,
   "metadata": {},
   "outputs": [],
   "source": [
    "def generate_data(N,**kwargs):\n",
    "    dicts=kwargs\n",
    "    types=dicts['types']\n",
    "    if types == 'Gaussian':\n",
    "        mu=dicts['mu']\n",
    "        sigma=dicts['sigma']\n",
    "        return np.random.normal(mu,sigma,size=N)\n",
    "    elif types == 'exponential':\n",
    "        scale=dicts['scale']\n",
    "        return np.random.exponential(scale=scale,size=N)\n",
    "    elif types == 'uniform':\n",
    "        a=dicts['a']\n",
    "        b=dicts['b']\n",
    "        return np.random.uniform(low=a,high=b,size=N)\n",
    "    else:\n",
    "        return None"
   ]
  },
  {
   "cell_type": "markdown",
   "metadata": {},
   "source": [
    "## 高斯分布"
   ]
  },
  {
   "cell_type": "code",
   "execution_count": 288,
   "metadata": {},
   "outputs": [],
   "source": [
    "N=2500\n",
    "data_gassuain=generate_data(N,types='Gaussian',mu=100,sigma=25)\n",
    "# data_gassuain=np.sort(data_gassuain)"
   ]
  },
  {
   "cell_type": "code",
   "execution_count": 289,
   "metadata": {},
   "outputs": [
    {
     "data": {
      "image/png": "[encoded data removed]",
      "text/plain": [
       "<Figure size 432x288 with 1 Axes>"
      ]
     },
     "metadata": {
      "needs_background": "light"
     },
     "output_type": "display_data"
    }
   ],
   "source": [
    "_,_,_=plt.hist(data_gassuain,bins=80)"
   ]
  },
  {
   "cell_type": "markdown",
   "metadata": {},
   "source": [
    "# HDFS数据块划分"
   ]
  },
  {
   "cell_type": "code",
   "execution_count": 290,
   "metadata": {},
   "outputs": [],
   "source": [
    "# tmp1=np.array(np.split(np.arange(100),10))\n",
    "# # for i in range(tmp1.shape[0]):\n",
    "# #     np.random.shuffle(tmp1[i])\n",
    "# tmp_list=[np.split(tmp2,2) for tmp2 in tmp1]\n",
    "# tmp_list\n",
    "# tmp1"
   ]
  },
  {
   "cell_type": "code",
   "execution_count": 291,
   "metadata": {},
   "outputs": [
    {
     "name": "stdout",
     "output_type": "stream",
     "text": [
      "(50, 50)\n"
     ]
    }
   ],
   "source": [
    "'''HDFS数据块按顺序划分'''\n",
    "K=50# 100个HDFS数据块\n",
    "M=50\n",
    "# 按顺序切成K份\n",
    "HDFS=np.array(np.split(data_gassuain,K))\n",
    "for i in range(HDFS.shape[0]):\n",
    "    np.random.shuffle(HDFS[i])\n",
    "HDFS_list=[np.split(D_k,M) for D_k in HDFS]\n",
    "print(HDFS.shape)"
   ]
  },
  {
   "cell_type": "markdown",
   "metadata": {},
   "source": [
    "# RSP数据块划分"
   ]
  },
  {
   "cell_type": "code",
   "execution_count": 292,
   "metadata": {},
   "outputs": [],
   "source": [
    "# tt1=[[D_K[m] for D_K in tmp_list] for m in range(2)]\n",
    "# tt1\n",
    "# for idx,RSP_ in enumerate(tt1):\n",
    "#     tmp_RSP=RSP_[0]\n",
    "#     for i in range(1,len(RSP_)):\n",
    "#         tmp_RSP=np.hstack((tmp_RSP,RSP_[i]))\n",
    "#     tt1[idx]=tmp_RSP\n",
    "# tt1=np.array(tt1)\n",
    "# tt1"
   ]
  },
  {
   "cell_type": "code",
   "execution_count": 293,
   "metadata": {},
   "outputs": [
    {
     "name": "stdout",
     "output_type": "stream",
     "text": [
      "(50, 50)\n"
     ]
    }
   ],
   "source": [
    "RSP=[[D_K[m] for D_K in HDFS_list] for m in range(M)]\n",
    "for idx,RSP_ in enumerate(RSP):\n",
    "    tmp_RSP=RSP_[0]\n",
    "    for i in range(1,len(RSP_)):\n",
    "        tmp_RSP=np.hstack((tmp_RSP,RSP_[i]))\n",
    "    RSP[idx]=tmp_RSP\n",
    "RSP=np.array(RSP)\n",
    "print(RSP.shape)"
   ]
  },
  {
   "cell_type": "code",
   "execution_count": 294,
   "metadata": {},
   "outputs": [
    {
     "name": "stdout",
     "output_type": "stream",
     "text": [
      "(50,)\n",
      "(50,)\n"
     ]
    }
   ],
   "source": [
    "print(HDFS[0][:].shape)\n",
    "print(RSP[0][:].shape)"
   ]
  },
  {
   "cell_type": "code",
   "execution_count": 295,
   "metadata": {},
   "outputs": [],
   "source": [
    "np.save('HDFS.npy',HDFS)\n",
    "np.save('RSP.npy',RSP)"
   ]
  },
  {
   "cell_type": "code",
   "execution_count": null,
   "metadata": {},
   "outputs": [],
   "source": []
  }
 ],
 "metadata": {
  "interpreter": {
   "hash": "038eda8c76a1951754e57bd035650513593351de2fceb436ce8ff357ea69701f"
  },
  "kernelspec": {
   "display_name": "Python 3.7.9 64-bit ('base': conda)",
   "language": "python",
   "name": "python3"
  },
  "language_info": {
   "codemirror_mode": {
    "name": "ipython",
    "version": 3
   },
   "file_extension": ".py",
   "mimetype": "text/x-python",
   "name": "python",
   "nbconvert_exporter": "python",
   "pygments_lexer": "ipython3",
   "version": "3.7.9"
  },
  "orig_nbformat": 4
 },
 "nbformat": 4,
 "nbformat_minor": 2
}
